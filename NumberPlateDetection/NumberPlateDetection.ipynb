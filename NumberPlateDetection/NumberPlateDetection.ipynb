{
 "cells": [
  {
   "cell_type": "code",
   "execution_count": 3,
   "id": "4ca5e521-2e5c-4088-bd98-64517b849eed",
   "metadata": {},
   "outputs": [],
   "source": [
    "import cv2\n",
    "import numpy as np"
   ]
  },
  {
   "cell_type": "markdown",
   "id": "02db34c0-8b04-4f4d-b906-079fad1c15a6",
   "metadata": {},
   "source": [
    "## Configure cascade Identifier"
   ]
  },
  {
   "cell_type": "code",
   "execution_count": 7,
   "id": "07ff1928-90fb-4aae-9e62-2d9ac83e60a5",
   "metadata": {},
   "outputs": [],
   "source": [
    "np_cascade=cv2.CascadeClassifier('np.xml')"
   ]
  },
  {
   "cell_type": "code",
   "execution_count": null,
   "id": "d297f8c0-cc81-44c9-beac-e53ce610c134",
   "metadata": {},
   "outputs": [],
   "source": [
    "cap = cv2.VideoCapture(0)\n",
    "\n",
    "while True:\n",
    "    _,img = cap.read()\n",
    "    gray = cv2.cvtColor(img, cv2.COLOR_BGR2GRAY)\n",
    "    faces = np_cascade.detectMultiScale(gray, 1.1, 4)\n",
    "    for (x, y, w, h) in faces:\n",
    "        cv2.rectangle(img, (x, y), (x+w, y+h), (0, 0, 255), 2)\n",
    "    cv2.imshow('img', img)\n",
    "    k = cv2.waitKey(300) & 0xff\n",
    "    if k==27:\n",
    "        break\n",
    "cv2.destroyAllWindows()\n",
    "cap.release()"
   ]
  }
 ],
 "metadata": {
  "kernelspec": {
   "display_name": "Python 3 (ipykernel)",
   "language": "python",
   "name": "python3"
  },
  "language_info": {
   "codemirror_mode": {
    "name": "ipython",
    "version": 3
   },
   "file_extension": ".py",
   "mimetype": "text/x-python",
   "name": "python",
   "nbconvert_exporter": "python",
   "pygments_lexer": "ipython3",
   "version": "3.12.7"
  }
 },
 "nbformat": 4,
 "nbformat_minor": 5
}
